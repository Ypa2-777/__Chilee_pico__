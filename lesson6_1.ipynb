{
 "cells": [
  {
   "cell_type": "code",
   "execution_count": 3,
   "metadata": {},
   "outputs": [
    {
     "data": {
      "text/plain": [
       "55"
      ]
     },
     "execution_count": 3,
     "metadata": {},
     "output_type": "execute_result"
    }
   ],
   "source": [
    "value = 0\n",
    "i = 1\n",
    "while i<=10:\n",
    "    value += i\n",
    "    i += 1\n",
    "value"
   ]
  },
  {
   "cell_type": "code",
   "execution_count": 2,
   "metadata": {},
   "outputs": [
    {
     "name": "stdout",
     "output_type": "stream",
     "text": [
      "請輸入本月份的存款:15000\n",
      "請輸入本月份的存款:5987\n",
      "請輸入本月份的存款:9876\n",
      "恭喜!已經存夠了,工存了3月,總存款為30863\n"
     ]
    }
   ],
   "source": [
    "import pyinputplus as pyip\n",
    "\n",
    "num = 0\n",
    "deposit = 0\n",
    "while(deposit < 30000):\n",
    "    num += 1\n",
    "    month_value = pyip.inputInt(\"請輸入本月份的存款:\")\n",
    "    print(month_value)\n",
    "    deposit += month_value\n",
    "\n",
    "print(f\"恭喜!已經存夠了,工存了{num}月,總存款為{deposit}\")\n"
   ]
  },
  {
   "cell_type": "code",
   "execution_count": 4,
   "metadata": {},
   "outputs": [
    {
     "name": "stdout",
     "output_type": "stream",
     "text": [
      "請輸入學生成績:100\n",
      "請輸入學生成績:100\n",
      "請輸入學生成績:200\n",
      "請輸入學生成績:-1\n",
      "學生總分數為:400\n"
     ]
    }
   ],
   "source": [
    "import pyinputplus as pyip\n",
    "\n",
    "sum = 0\n",
    "num = 0\n",
    "while(True):\n",
    "   inputValue = pyip.inputInt(\"請輸入學生成績:\")\n",
    "   print(inputValue)\n",
    "   if inputValue < 0:\n",
    "       break\n",
    "   sum += inputValue\n",
    "\n",
    "print(f\"學生總分數為:{sum}\")"
   ]
  },
  {
   "cell_type": "code",
   "execution_count": 8,
   "metadata": {},
   "outputs": [
    {
     "name": "stdout",
     "output_type": "stream",
     "text": [
      "5的平方是25\n",
      "不做事\n",
      "請輸入錯誤,請重新輸入\n",
      "請輸入錯誤,請重新輸入\n",
      "請輸入錯誤,請重新輸入\n",
      "應用程式結束\n"
     ]
    }
   ],
   "source": [
    "while(True):\n",
    "    value = input(\"請輸入整數,輸入[q]離開:\")\n",
    "    if value == 'q':\n",
    "        break\n",
    "    try:\n",
    "       valueInt = int(value)\n",
    "    except:\n",
    "        print(\"請輸入錯誤,請重新輸入\")\n",
    "        continue\n",
    "    if (valueInt % 2) == 1:\n",
    "        print(f\"{valueInt}的平方是{valueInt ** 2}\" )\n",
    "    else:\n",
    "        print(\"不做事\")\n",
    "    \n",
    "print(\"應用程式結束\")\n",
    "\n"
   ]
  },
  {
   "cell_type": "code",
   "execution_count": 16,
   "metadata": {},
   "outputs": [
    {
     "data": {
      "text/plain": [
       "(<module 'random' from '/usr/local/lib/python3.10/random.py'>, 4)"
      ]
     },
     "execution_count": 16,
     "metadata": {},
     "output_type": "execute_result"
    }
   ],
   "source": [
    "import random\n",
    "import pyinputplus as pyip\n",
    "\n",
    "min = 1\n",
    "max = 100\n",
    "randomNum = random, random.randint(min,max)\n",
    "\n",
    "print(\"=====================猜數字遊戲=============\")\n",
    "while Ture:\n",
    "    keyin = pyip,inputInt(f\"猜數字範圍{min}~{max}\",min=min,max=max)\n",
    "    count += 1\n",
    "    if(keyin == randomNum):\n",
    "        print(f\"賓果!猜對了,答案是:{randomNum}\")\n",
    "        print(f\"您猜了:{count}\")\n",
    "        break\n",
    "    elif keyin > randomNum:"
   ]
  }
 ],
 "metadata": {
  "kernelspec": {
   "display_name": "Python 3",
   "language": "python",
   "name": "python3"
  },
  "language_info": {
   "codemirror_mode": {
    "name": "ipython",
    "version": 3
   },
   "file_extension": ".py",
   "mimetype": "text/x-python",
   "name": "python",
   "nbconvert_exporter": "python",
   "pygments_lexer": "ipython3",
   "version": "3.10.13"
  }
 },
 "nbformat": 4,
 "nbformat_minor": 2
}
