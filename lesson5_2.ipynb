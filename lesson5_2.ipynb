{
 "cells": [
  {
   "cell_type": "code",
   "execution_count": 6,
   "metadata": {},
   "outputs": [
    {
     "ename": "ModuleNotFoundError",
     "evalue": "No module named 'py'",
     "output_type": "error",
     "traceback": [
      "\u001b[0;31m---------------------------------------------------------------------------\u001b[0m",
      "\u001b[0;31mModuleNotFoundError\u001b[0m                       Traceback (most recent call last)",
      "\u001b[1;32m/workspaces/__Chilee_pico__/lesson5_2.ipynb Cell 1\u001b[0m line \u001b[0;36m1\n\u001b[0;32m----> <a href='vscode-notebook-cell://codespaces%2Bcuddly-orbit-7vvp59xvr5vjfx477/workspaces/__Chilee_pico__/lesson5_2.ipynb#W1sdnNjb2RlLXJlbW90ZQ%3D%3D?line=0'>1</a>\u001b[0m \u001b[39mimport\u001b[39;00m \u001b[39mpy\u001b[39;00m\n\u001b[1;32m      <a href='vscode-notebook-cell://codespaces%2Bcuddly-orbit-7vvp59xvr5vjfx477/workspaces/__Chilee_pico__/lesson5_2.ipynb#W1sdnNjb2RlLXJlbW90ZQ%3D%3D?line=2'>3</a>\u001b[0m is_yes \u001b[39m=\u001b[39m pyip\u001b[39m.\u001b[39minputYesNo(\u001b[39m\"\u001b[39m\u001b[39m請問是否加分(y,n)\u001b[39m\u001b[39m{\u001b[39m\u001b[39m\"\u001b[39m)\n\u001b[1;32m      <a href='vscode-notebook-cell://codespaces%2Bcuddly-orbit-7vvp59xvr5vjfx477/workspaces/__Chilee_pico__/lesson5_2.ipynb#W1sdnNjb2RlLXJlbW90ZQ%3D%3D?line=3'>4</a>\u001b[0m \u001b[39mprint\u001b[39m(is_yes)\n",
      "\u001b[0;31mModuleNotFoundError\u001b[0m: No module named 'py'"
     ]
    }
   ],
   "source": [
    "import py\n",
    "\n",
    "is_yes = pyip.inputYesNo(\"請問是否加分(y,n){\")\n",
    "print(is_yes)\n",
    "if not (is_yes ==\"yes\"):\n",
    "     print(\"No\")\n",
    "else:\n",
    "     print(\"加分\")"
   ]
  },
  {
   "cell_type": "code",
   "execution_count": 8,
   "metadata": {},
   "outputs": [
    {
     "name": "stdout",
     "output_type": "stream",
     "text": [
      "請輸入學生分數60\n",
      "及格\n"
     ]
    }
   ],
   "source": [
    "import pyinputplus as pyip\n",
    "\n",
    "scores = pyip.inputNum(prompt=\"請輸入學生分數\", min=0, max=100)\n",
    "print(scores)\n",
    "\n",
    "if scores < 60:\n",
    "    print(\"不及格\")\n",
    "else:\n",
    "    if scores < 80:\n",
    "        print(\"及格\")\n",
    "    else:\n",
    "        print(\"優\")"
   ]
  },
  {
   "cell_type": "code",
   "execution_count": 9,
   "metadata": {},
   "outputs": [
    {
     "name": "stdout",
     "output_type": "stream",
     "text": [
      "1 * 1 = 1  1 * 2 = 2  1 * 3 = 3  1 * 4 = 4  1 * 5 = 5  1 * 6 = 6  1 * 7 = 7  1 * 8 = 8  1 * 9 = 9  \n",
      "2 * 1 = 2  2 * 2 = 4  2 * 3 = 6  2 * 4 = 8  2 * 5 =10  2 * 6 =12  2 * 7 =14  2 * 8 =16  2 * 9 =18  \n",
      "3 * 1 = 3  3 * 2 = 6  3 * 3 = 9  3 * 4 =12  3 * 5 =15  3 * 6 =18  3 * 7 =21  3 * 8 =24  3 * 9 =27  \n",
      "4 * 1 = 4  4 * 2 = 8  4 * 3 =12  4 * 4 =16  4 * 5 =20  4 * 6 =24  4 * 7 =28  4 * 8 =32  4 * 9 =36  \n",
      "5 * 1 = 5  5 * 2 =10  5 * 3 =15  5 * 4 =20  5 * 5 =25  5 * 6 =30  5 * 7 =35  5 * 8 =40  5 * 9 =45  \n",
      "6 * 1 = 6  6 * 2 =12  6 * 3 =18  6 * 4 =24  6 * 5 =30  6 * 6 =36  6 * 7 =42  6 * 8 =48  6 * 9 =54  \n",
      "7 * 1 = 7  7 * 2 =14  7 * 3 =21  7 * 4 =28  7 * 5 =35  7 * 6 =42  7 * 7 =49  7 * 8 =56  7 * 9 =63  \n",
      "8 * 1 = 8  8 * 2 =16  8 * 3 =24  8 * 4 =32  8 * 5 =40  8 * 6 =48  8 * 7 =56  8 * 8 =64  8 * 9 =72  \n",
      "9 * 1 = 9  9 * 2 =18  9 * 3 =27  9 * 4 =36  9 * 5 =45  9 * 6 =54  9 * 7 =63  9 * 8 =72  9 * 9 =81  \n"
     ]
    }
   ],
   "source": [
    "for i in range(1,10):\n",
    "    for j in range(1,10):\n",
    "        print(f\"{i:<2}*{j:2} ={i*j:2}\",end='  ')\n",
    "    print()\n"
   ]
  },
  {
   "cell_type": "code",
   "execution_count": 7,
   "metadata": {},
   "outputs": [
    {
     "ename": "SyntaxError",
     "evalue": "unmatched ')' (1708823335.py, line 1)",
     "output_type": "error",
     "traceback": [
      "\u001b[0;36m  Cell \u001b[0;32mIn[7], line 1\u001b[0;36m\u001b[0m\n\u001b[0;31m    chinese = pyip.Inputint(\"請輸入國文分數:\"),min=0,max=100)\u001b[0m\n\u001b[0m                                                     ^\u001b[0m\n\u001b[0;31mSyntaxError\u001b[0m\u001b[0;31m:\u001b[0m unmatched ')'\n"
     ]
    }
   ],
   "source": [
    "chinese = pyip.Inputint(\"請輸入國文分數:\"),min=0,max=100)\n",
    "pirint(chinese)\n",
    "math = pyip.inputInt(\"請輸入數學分數:\")min=0,max=100)\n",
    "print(math)\n",
    "bonus = 0\n",
    "\n",
    "if chinese == 100 and math ==100:\n",
    "    bonus = 1000\n",
    "elif chines == 100 or math == 100:\n",
    "    bonus = 500\n",
    "\n",
    "print(f\"獎金:(bonus)\")"
   ]
  },
  {
   "cell_type": "code",
   "execution_count": 11,
   "metadata": {},
   "outputs": [
    {
     "name": "stdout",
     "output_type": "stream",
     "text": [
      "1..1000的總和是:500500\n"
     ]
    }
   ],
   "source": [
    "value = 0\n",
    "for i in range(1,1001):\n",
    "        value += i\n",
    "\n",
    "print(f\"1..1000的總和是:{value}\")"
   ]
  }
 ],
 "metadata": {
  "kernelspec": {
   "display_name": "Python 3",
   "language": "python",
   "name": "python3"
  },
  "language_info": {
   "codemirror_mode": {
    "name": "ipython",
    "version": 3
   },
   "file_extension": ".py",
   "mimetype": "text/x-python",
   "name": "python",
   "nbconvert_exporter": "python",
   "pygments_lexer": "ipython3",
   "version": "3.10.13"
  }
 },
 "nbformat": 4,
 "nbformat_minor": 2
}
